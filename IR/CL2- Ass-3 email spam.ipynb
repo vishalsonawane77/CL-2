{
 "cells": [
  {
   "cell_type": "markdown",
   "metadata": {},
   "source": [
    " Implement e-mail spam filtering using text classification algorithm with appropriate dataset"
   ]
  },
  {
   "cell_type": "code",
   "execution_count": 4,
   "metadata": {
    "colab": {
     "base_uri": "https://localhost:8080/"
    },
    "id": "G2Z27QoW-T_H",
    "outputId": "b5e4e4fe-87d4-44b8-b72e-cd3e4e1d4d17"
   },
   "outputs": [
    {
     "name": "stdout",
     "output_type": "stream",
     "text": [
      "Accuracy: 0.99\n",
      "Classification Report:\n",
      "               precision    recall  f1-score   support\n",
      "\n",
      "    Not Spam       0.99      1.00      1.00       856\n",
      "        Spam       0.99      0.98      0.99       290\n",
      "\n",
      "    accuracy                           0.99      1146\n",
      "   macro avg       0.99      0.99      0.99      1146\n",
      "weighted avg       0.99      0.99      0.99      1146\n",
      "\n",
      "Classification: Spam\n"
     ]
    }
   ],
   "source": [
    "import pandas as pd\n",
    "from sklearn.feature_extraction.text import TfidfVectorizer\n",
    "from sklearn.model_selection import train_test_split\n",
    "from sklearn.svm import SVC\n",
    "from sklearn.metrics import accuracy_score, classification_report\n",
    "import re\n",
    "\n",
    "# Load the dataset (replace 'emails.csv' with your actual file path)\n",
    "data = pd.read_csv('emails.csv')\n",
    "\n",
    "# Split the data into features (text) and target (spam)\n",
    "X = data['text']\n",
    "y = data['spam']\n",
    "\n",
    "# Convert text to numerical features using TF-IDF vectorization\n",
    "vectorizer = TfidfVectorizer()\n",
    "X_vectorized = vectorizer.fit_transform(X)\n",
    "\n",
    "# Split the data into training and testing sets\n",
    "X_train, X_test, y_train, y_test = train_test_split(X_vectorized, y, test_size=0.2, random_state=42)\n",
    "\n",
    "# Create an SVM classifier\n",
    "svm_classifier = SVC(kernel='linear')\n",
    "\n",
    "# Train the SVM classifier\n",
    "svm_classifier.fit(X_train, y_train)\n",
    "\n",
    "# Make predictions on the test set\n",
    "y_pred = svm_classifier.predict(X_test)\n",
    "\n",
    "# Calculate accuracy\n",
    "accuracy = accuracy_score(y_test, y_pred)\n",
    "print(f\"Accuracy: {accuracy:.2f}\")\n",
    "\n",
    "# Display classification report\n",
    "class_report = classification_report(y_test, y_pred, target_names=['Not Spam', 'Spam'])\n",
    "print(\"Classification Report:\\n\", class_report)\n",
    "\n",
    "# Define a function to classify email subjects\n",
    "def classify_email(subject):\n",
    "    cleaned_subject = re.sub(r'^Subject:\\s*', '', subject)  # Remove \"Subject:\" prefix\n",
    "    vectorized_subject = vectorizer.transform([cleaned_subject])\n",
    "    prediction = svm_classifier.predict(vectorized_subject)\n",
    "    if prediction[0] == 1:\n",
    "        return \"Spam\"\n",
    "    else:\n",
    "        return \"Not Spam\"\n",
    "\n",
    "# Ask the user to enter an email subject\n",
    "user_input = input(\"Enter an email subject: \")\n",
    "classification_result = classify_email(user_input)\n",
    "print(\"Classification:\", classification_result)\n"
   ]
  },
  {
   "cell_type": "code",
   "execution_count": 5,
   "metadata": {},
   "outputs": [
    {
     "name": "stdout",
     "output_type": "stream",
     "text": [
      "Spam\n"
     ]
    }
   ],
   "source": [
    "sub=input(\"Enterr the subject: \")\n",
    "result=classify_email(sub)\n",
    "print(result)"
   ]
  },
  {
   "cell_type": "code",
   "execution_count": null,
   "metadata": {},
   "outputs": [],
   "source": []
  }
 ],
 "metadata": {
  "colab": {
   "provenance": []
  },
  "kernelspec": {
   "display_name": "Python 3",
   "language": "python",
   "name": "python3"
  },
  "language_info": {
   "codemirror_mode": {
    "name": "ipython",
    "version": 3
   },
   "file_extension": ".py",
   "mimetype": "text/x-python",
   "name": "python",
   "nbconvert_exporter": "python",
   "pygments_lexer": "ipython3",
   "version": "3.12.3"
  }
 },
 "nbformat": 4,
 "nbformat_minor": 4
}
