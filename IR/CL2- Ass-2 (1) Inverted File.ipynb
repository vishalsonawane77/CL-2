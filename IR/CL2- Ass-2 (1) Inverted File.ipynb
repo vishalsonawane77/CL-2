{
 "cells": [
  {
   "cell_type": "markdown",
   "id": "44c32ec7",
   "metadata": {},
   "source": [
    "Implement a program for retrieval of documents using inverted files"
   ]
  },
  {
   "cell_type": "code",
   "execution_count": 1,
   "id": "09b3ea9f",
   "metadata": {},
   "outputs": [
    {
     "name": "stdout",
     "output_type": "stream",
     "text": [
      "Query: It contains some words\n",
      "Matching Documents: {1}\n"
     ]
    }
   ],
   "source": [
    "import re\n",
    "import collections\n",
    "\n",
    "# Sample documents\n",
    "documents = {\n",
    "    1: \"This is the first document. It contains some words.\",\n",
    "    2: \"This is the second document. It also contains words.\",\n",
    "    3: \"The third document is different from the first two.\",\n",
    "    4: \"Inverted index is essential for document retrieval.\",\n",
    "}\n",
    "\n",
    "# Function to preprocess and tokenize text\n",
    "def preprocess(text):\n",
    "    text = text.lower()\n",
    "    tokens = re.findall(r'\\w+', text)\n",
    "    return tokens\n",
    "\n",
    "# Create an inverted index\n",
    "def build_inverted_index(documents):\n",
    "    inverted_index = collections.defaultdict(list)\n",
    "    for doc_id, document in documents.items():\n",
    "        tokens = preprocess(document)\n",
    "        for token in tokens:\n",
    "            inverted_index[token].append(doc_id)\n",
    "    return inverted_index\n",
    "\n",
    "# Function to perform document retrieval\n",
    "def retrieve_documents(query, inverted_index):\n",
    "    query_tokens = preprocess(query)\n",
    "    result = set()\n",
    "\n",
    "    # Retrieve documents containing each query token\n",
    "    for token in query_tokens:\n",
    "        if token in inverted_index:\n",
    "            if not result:\n",
    "                result = set(inverted_index[token])\n",
    "            else:\n",
    "                result = result.intersection(inverted_index[token])\n",
    "\n",
    "    return result\n",
    "\n",
    "# Build the inverted index\n",
    "inverted_index = build_inverted_index(documents)\n",
    "\n",
    "# Example queries\n",
    "query1 = input(\"Enter query: \")\n",
    "\n",
    "\n",
    "# Retrieve documents for the queries\n",
    "result1 = retrieve_documents(query1, inverted_index)\n",
    "\n",
    "\n",
    "# Display the results\n",
    "print(\"Query:\", query1)\n",
    "print(\"Matching Documents:\", result1)"
   ]
  },
  {
   "cell_type": "code",
   "execution_count": null,
   "id": "3e4e6016",
   "metadata": {},
   "outputs": [],
   "source": []
  }
 ],
 "metadata": {
  "kernelspec": {
   "display_name": "Python 3",
   "language": "python",
   "name": "python3"
  },
  "language_info": {
   "codemirror_mode": {
    "name": "ipython",
    "version": 3
   },
   "file_extension": ".py",
   "mimetype": "text/x-python",
   "name": "python",
   "nbconvert_exporter": "python",
   "pygments_lexer": "ipython3",
   "version": "3.12.3"
  }
 },
 "nbformat": 4,
 "nbformat_minor": 5
}
