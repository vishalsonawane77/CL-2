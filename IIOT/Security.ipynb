{
 "cells": [
  {
   "cell_type": "code",
   "execution_count": 1,
   "id": "c7943fa3-2ff9-4430-b6bd-57bc079f0945",
   "metadata": {},
   "outputs": [],
   "source": [
    "# Import necessary libraries\n",
    "import hashlib  # For hashing to ensure data integrity\n",
    "from cryptography.fernet import Fernet  # For encryption\n",
    "import random  # For simulating sensor data\n"
   ]
  },
  {
   "cell_type": "code",
   "execution_count": 2,
   "id": "43f04089-b9ad-4f58-81ed-334a169b639a",
   "metadata": {},
   "outputs": [],
   "source": [
    "# Generate an encryption key\n",
    "key = Fernet.generate_key()\n",
    "cipher = Fernet(key)\n"
   ]
  },
  {
   "cell_type": "code",
   "execution_count": 3,
   "id": "2b6b6a1a-5245-4afd-a34a-ea6cdc805bdb",
   "metadata": {},
   "outputs": [],
   "source": [
    "def get_sensor_data():\n",
    "    return random.uniform(50, 100)  # Random temperature between 50°C and 100°C\n",
    "# Encrypt the sensor data\n",
    "def encrypt_data(data, cipher):\n",
    "    return cipher.encrypt(data.encode())\n",
    "# Encrypt the sensor data\n",
    "def encrypt_data(data, cipher):\n",
    "    return cipher.encrypt(data.encode())\n",
    "# Decrypt the sensor data\n",
    "def decrypt_data(encrypted_data, cipher):\n",
    "    return cipher.decrypt(encrypted_data).decode()\n"
   ]
  },
  {
   "cell_type": "code",
   "execution_count": 4,
   "id": "b4bc4b5a-e6d9-4b2b-a586-7f1ea5f0057f",
   "metadata": {},
   "outputs": [],
   "source": [
    "def verify_data_integrity(data):\n",
    "    return hashlib.sha256(data.encode()).hexdigest()\n"
   ]
  },
  {
   "cell_type": "code",
   "execution_count": 5,
   "id": "c2b7c166-a7d1-43bf-8493-ff7a326a0442",
   "metadata": {},
   "outputs": [
    {
     "name": "stdout",
     "output_type": "stream",
     "text": [
      "Original Data: Temperature: 76.42°C\n",
      "Encrypted Data: b'gAAAAABnK6Hz1zzxkbW_OFmcCMAaAp7Aq_IYSCxNyw6MRH-RDqwwgUgdgfTNUL8qXSdawBL-5akYbxXykdP6VT6vuKxOP-Q7trnHjOx0wW3-GE-n17QBCdg='\n",
      "Decrypted Data: Temperature: 76.42°C\n"
     ]
    }
   ],
   "source": [
    "sensor_data = f\"Temperature: {get_sensor_data():.2f}°C\"\n",
    "print(\"Original Data:\", sensor_data)\n",
    "# Encrypt and then decrypt the data\n",
    "encrypted_data = encrypt_data(sensor_data, cipher)\n",
    "print(\"Encrypted Data:\", encrypted_data)\n",
    "decrypted_data = decrypt_data(encrypted_data, cipher)\n",
    "print(\"Decrypted Data:\", decrypted_data)"
   ]
  },
  {
   "cell_type": "code",
   "execution_count": 6,
   "id": "8916812c-470c-492f-8ee8-f48343cd25a0",
   "metadata": {},
   "outputs": [
    {
     "name": "stdout",
     "output_type": "stream",
     "text": [
      "Data Integrity Verified: Hashes match.\n"
     ]
    }
   ],
   "source": [
    "original_hash = verify_data_integrity(sensor_data)\n",
    "decrypted_hash = verify_data_integrity(decrypted_data)\n",
    "if original_hash == decrypted_hash:\n",
    "    print(\"Data Integrity Verified: Hashes match.\")\n",
    "else:\n",
    "    print(\"Data Integrity Issue: Hashes do not match.\")\n",
    "\n"
   ]
  },
  {
   "cell_type": "code",
   "execution_count": null,
   "id": "644c57a8-ca8e-4acb-85ed-c702f0f466d1",
   "metadata": {},
   "outputs": [],
   "source": []
  }
 ],
 "metadata": {
  "kernelspec": {
   "display_name": "Python 3 (ipykernel)",
   "language": "python",
   "name": "python3"
  },
  "language_info": {
   "codemirror_mode": {
    "name": "ipython",
    "version": 3
   },
   "file_extension": ".py",
   "mimetype": "text/x-python",
   "name": "python",
   "nbconvert_exporter": "python",
   "pygments_lexer": "ipython3",
   "version": "3.12.2"
  }
 },
 "nbformat": 4,
 "nbformat_minor": 5
}
